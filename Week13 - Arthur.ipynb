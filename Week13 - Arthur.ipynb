{
 "cells": [
  {
   "cell_type": "code",
   "execution_count": 1,
   "metadata": {},
   "outputs": [
    {
     "name": "stdout",
     "output_type": "stream",
     "text": [
      "angka: 17\n",
      "prima\n"
     ]
    }
   ],
   "source": [
    "def coba_prima(n, i=2):\n",
    "    if n <= 1:\n",
    "        return False\n",
    "    if n <= 3:\n",
    "        return True\n",
    "    if n % i == 0:\n",
    "        return False\n",
    "    else:\n",
    "        return True\n",
    "    coba_prima(n, i + 1)\n",
    "\n",
    "input_angka = int(input(\"Masukkan angka: \"))\n",
    "if coba_prima(input_angka,2):\n",
    "    print(f\"angka: {input_angka}\\nprima\")\n",
    "else:\n",
    "    print(f\"angka: {input_angka}\\nbukan prima\")"
   ]
  },
  {
   "cell_type": "code",
   "execution_count": 4,
   "metadata": {},
   "outputs": [
    {
     "name": "stdout",
     "output_type": "stream",
     "text": [
      "kalimat:ibu ubi\n",
      "palindrome\n"
     ]
    }
   ],
   "source": [
    "def coba_palindrome(s, i, j):\n",
    "    if i >= j:\n",
    "        return True\n",
    "    if s[i] != s[j]:\n",
    "        return False\n",
    "    return coba_palindrome(s, i + 1, j - 1)\n",
    "\n",
    "kalimat = str(input('Masukkan kalimat : '))\n",
    "\n",
    "if coba_palindrome(kalimat, 0, len(kalimat) - 1):\n",
    "    print(f\"kalimat:{kalimat}\\npalindrome\")\n",
    "else:\n",
    "    print(f\"kalimat:{kalimat}\\nbukan palindrome\")"
   ]
  },
  {
   "cell_type": "code",
   "execution_count": 9,
   "metadata": {},
   "outputs": [
    {
     "name": "stdout",
     "output_type": "stream",
     "text": [
      "angka:11\n",
      "hasil:36\n"
     ]
    }
   ],
   "source": [
    "def deret_angka_ganjil(i,n,z):\n",
    "    if n<i:\n",
    "        print(f\"angka:{p}\\nhasil:{z}\")\n",
    "        return \n",
    "    deret_angka_ganjil(i+2,n,z+i)\n",
    "\n",
    "p=int(input(\"masukkan angka: \"))\n",
    "deret_angka_ganjil(1,p,0)"
   ]
  },
  {
   "cell_type": "code",
   "execution_count": 10,
   "metadata": {},
   "outputs": [
    {
     "name": "stdout",
     "output_type": "stream",
     "text": [
      "bilangan:777\n",
      "hasil:21\n"
     ]
    }
   ],
   "source": [
    "def hitung_digit(s,i):\n",
    "    if i == len(s):\n",
    "        return 0\n",
    "    jumlahsekarang = int(s[i]) if s[i].isdigit() else 0\n",
    "    return jumlahsekarang + hitung_digit(s, i + 1)\n",
    "\n",
    "masukkan_bilangan = str(input(\"input bilangan: \"))\n",
    "\n",
    "hasil = hitung_digit(masukkan_bilangan,0)\n",
    "\n",
    "print(f\"bilangan:{masukkan_bilangan}\\nhasil:{hasil}\")"
   ]
  },
  {
   "cell_type": "code",
   "execution_count": 20,
   "metadata": {},
   "outputs": [
    {
     "name": "stdout",
     "output_type": "stream",
     "text": [
      "C(4, 2) = 6\n"
     ]
    }
   ],
   "source": [
    "def hitungkombinasi(n, r):\n",
    "    if r == 0 or r == n:\n",
    "        return 1\n",
    "    elif n<r:\n",
    "        return\n",
    "    return hitungkombinasi(n - 1, r - 1) + hitungkombinasi(n - 1, r)\n",
    "\n",
    "nilai_n = int(input(\"Masukkan nilai n: \"))\n",
    "nilai_r = int(input(\"Masukkan nilai r: \"))\n",
    "if hitungkombinasi(nilai_x,nilai_y)==None:\n",
    "    print(\"error, mohon ikuti aturan n>r\")\n",
    "else:\n",
    "    print(f\"C({nilai_n}, {nilai_r}) = {hitungkombinasi(nilai_n, nilai_r)}\")"
   ]
  }
 ],
 "metadata": {
  "kernelspec": {
   "display_name": "Python 3",
   "language": "python",
   "name": "python3"
  },
  "language_info": {
   "codemirror_mode": {
    "name": "ipython",
    "version": 3
   },
   "file_extension": ".py",
   "mimetype": "text/x-python",
   "name": "python",
   "nbconvert_exporter": "python",
   "pygments_lexer": "ipython3",
   "version": "3.12.0"
  }
 },
 "nbformat": 4,
 "nbformat_minor": 2
}
